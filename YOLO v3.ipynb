{
 "cells": [
  {
   "cell_type": "markdown",
   "metadata": {},
   "source": [
    "# YOLO v3"
   ]
  },
  {
   "cell_type": "code",
   "execution_count": 1,
   "metadata": {},
   "outputs": [],
   "source": [
    "#import libraries\n",
    "import tensorflow as tf\n",
    "import numpy as np\n",
    "import matplotlib.pyplot as plt\n",
    "from yolov3 import *\n",
    "from util import *\n",
    "\n",
    "from PIL import Image, ImageDraw, ImageFont\n",
    "from seaborn import color_palette"
   ]
  },
  {
   "cell_type": "code",
   "execution_count": 2,
   "metadata": {},
   "outputs": [],
   "source": [
    "#From YOLOv3 paper https://pjreddie.com/media/files/papers/YOLOv3.pdf, bounding box priors\n",
    "#dervived using k-means clustering on COCO dataset\n",
    "ANCHORS = [(10,13),(16,30),(33,23),(30,61),(62,45),(59,119),(116,90),(156,198),(373,326)]\n",
    "\n"
   ]
  },
  {
   "cell_type": "code",
   "execution_count": 3,
   "metadata": {},
   "outputs": [
    {
     "data": {
      "text/plain": [
       "\"\\ninputs = tf.placeholder(tf.float32, [1, 416, 416, 3])\\n\\nmodel = YOLOv3((416,416), 80, ANCHORS, 0.5, 0.5, 'channels_last')\\ndetect_model = model.detect(inputs)\\n\\nyolovars = tf.global_variables(scope='yolov3')\\nassign_list = convert_weights(yolovars, './Data/yolov3.weights')\\n\\nsaver = tf.train.Saver(tf.global_variables(scope='yolov3'))\\n\\nwith tf.Session() as sess:\\n    sess.run(assign_list)\\n    saver.save(sess, './Data/yolov3.ckpt')\\n\""
      ]
     },
     "execution_count": 3,
     "metadata": {},
     "output_type": "execute_result"
    }
   ],
   "source": [
    "#Converting Official Yolo weights to Tensorflow format\n",
    "\n",
    "\"\"\"\n",
    "inputs = tf.placeholder(tf.float32, [1, 416, 416, 3])\n",
    "\n",
    "model = YOLOv3((416,416), 80, ANCHORS, 0.5, 0.5, 'channels_last')\n",
    "detect_model = model.detect(inputs)\n",
    "\n",
    "yolovars = tf.global_variables(scope='yolov3')\n",
    "assign_list = convert_weights(yolovars, './Data/yolov3.weights')\n",
    "\n",
    "saver = tf.train.Saver(tf.global_variables(scope='yolov3'))\n",
    "\n",
    "with tf.Session() as sess:\n",
    "    sess.run(assign_list)\n",
    "    saver.save(sess, './Data/yolov3.ckpt')\n",
    "\"\"\""
   ]
  },
  {
   "cell_type": "markdown",
   "metadata": {},
   "source": [
    "## Test"
   ]
  },
  {
   "cell_type": "code",
   "execution_count": 4,
   "metadata": {},
   "outputs": [
    {
     "name": "stdout",
     "output_type": "stream",
     "text": [
      "WARNING:tensorflow:From /Users/EMAN/Documents/Google Drive/Personal/Projects/Data Science/YOLOv3/darknet53.py:60: conv2d (from tensorflow.python.layers.convolutional) is deprecated and will be removed in a future version.\n",
      "Instructions for updating:\n",
      "Use keras.layers.conv2d instead.\n",
      "WARNING:tensorflow:From /Users/EMAN/miniconda3/envs/datasci/lib/python3.6/site-packages/tensorflow/python/framework/op_def_library.py:263: colocate_with (from tensorflow.python.framework.ops) is deprecated and will be removed in a future version.\n",
      "Instructions for updating:\n",
      "Colocations handled automatically by placer.\n",
      "WARNING:tensorflow:From /Users/EMAN/Documents/Google Drive/Personal/Projects/Data Science/YOLOv3/darknet53.py:18: batch_normalization (from tensorflow.python.layers.normalization) is deprecated and will be removed in a future version.\n",
      "Instructions for updating:\n",
      "Use keras.layers.batch_normalization instead.\n",
      "WARNING:tensorflow:From /Users/EMAN/miniconda3/envs/datasci/lib/python3.6/site-packages/tensorflow/python/training/saver.py:1266: checkpoint_exists (from tensorflow.python.training.checkpoint_management) is deprecated and will be removed in a future version.\n",
      "Instructions for updating:\n",
      "Use standard file APIs to check for files with this prefix.\n",
      "INFO:tensorflow:Restoring parameters from ./Data/yolov3.ckpt\n"
     ]
    }
   ],
   "source": [
    "inputs = tf.placeholder(tf.float32, [1, 416, 416, 3])\n",
    "\n",
    "img = Image.open('./Data/test.jpg').resize((416,416))\n",
    "img = np.array(img, dtype=np.float32)\n",
    "img = np.expand_dims(img[:, :, :3], axis=0)\n",
    "\n",
    "\n",
    "model = YOLOv3((416,416), 80, ANCHORS, 0.5, 0.5, 20, 'channels_last')\n",
    "detect_model = model.detect(inputs)\n",
    "saver = tf.train.Saver(tf.global_variables(scope='yolov3'))\n",
    "\n",
    "with tf.Session() as sess:\n",
    "    saver.restore(sess, './Data/yolov3.ckpt')\n",
    "    detection_result = sess.run(detect_model, feed_dict={inputs: img})\n"
   ]
  },
  {
   "cell_type": "code",
   "execution_count": 5,
   "metadata": {},
   "outputs": [
    {
     "data": {
      "text/plain": [
       "[{0: array([], shape=(0, 5), dtype=float32),\n",
       "  1: array([], shape=(0, 5), dtype=float32),\n",
       "  2: array([], shape=(0, 5), dtype=float32),\n",
       "  3: array([], shape=(0, 5), dtype=float32),\n",
       "  4: array([], shape=(0, 5), dtype=float32),\n",
       "  5: array([], shape=(0, 5), dtype=float32),\n",
       "  6: array([], shape=(0, 5), dtype=float32),\n",
       "  7: array([], shape=(0, 5), dtype=float32),\n",
       "  8: array([], shape=(0, 5), dtype=float32),\n",
       "  9: array([], shape=(0, 5), dtype=float32),\n",
       "  10: array([], shape=(0, 5), dtype=float32),\n",
       "  11: array([], shape=(0, 5), dtype=float32),\n",
       "  12: array([], shape=(0, 5), dtype=float32),\n",
       "  13: array([], shape=(0, 5), dtype=float32),\n",
       "  14: array([], shape=(0, 5), dtype=float32),\n",
       "  15: array([[257.6874    , 151.82848   , 265.43985   , 161.9984    ,\n",
       "            0.99965394],\n",
       "         [146.04596   , 155.64923   , 189.43774   , 300.79486   ,\n",
       "            0.9987355 ],\n",
       "         [ 92.8284    , 175.19609   , 147.00404   , 296.1655    ,\n",
       "            0.9450347 ],\n",
       "         [250.7813    , 149.02412   , 258.73993   , 159.5594    ,\n",
       "            0.68421376]], dtype=float32),\n",
       "  16: array([[259.41934  , 156.14723  , 267.48117  , 165.83891  ,   0.9930295]],\n",
       "        dtype=float32),\n",
       "  17: array([], shape=(0, 5), dtype=float32),\n",
       "  18: array([], shape=(0, 5), dtype=float32),\n",
       "  19: array([], shape=(0, 5), dtype=float32),\n",
       "  20: array([], shape=(0, 5), dtype=float32),\n",
       "  21: array([], shape=(0, 5), dtype=float32),\n",
       "  22: array([], shape=(0, 5), dtype=float32),\n",
       "  23: array([], shape=(0, 5), dtype=float32),\n",
       "  24: array([], shape=(0, 5), dtype=float32),\n",
       "  25: array([], shape=(0, 5), dtype=float32),\n",
       "  26: array([], shape=(0, 5), dtype=float32),\n",
       "  27: array([], shape=(0, 5), dtype=float32),\n",
       "  28: array([], shape=(0, 5), dtype=float32),\n",
       "  29: array([], shape=(0, 5), dtype=float32),\n",
       "  30: array([], shape=(0, 5), dtype=float32),\n",
       "  31: array([], shape=(0, 5), dtype=float32),\n",
       "  32: array([], shape=(0, 5), dtype=float32),\n",
       "  33: array([], shape=(0, 5), dtype=float32),\n",
       "  34: array([], shape=(0, 5), dtype=float32),\n",
       "  35: array([], shape=(0, 5), dtype=float32),\n",
       "  36: array([], shape=(0, 5), dtype=float32),\n",
       "  37: array([], shape=(0, 5), dtype=float32),\n",
       "  38: array([], shape=(0, 5), dtype=float32),\n",
       "  39: array([], shape=(0, 5), dtype=float32),\n",
       "  40: array([], shape=(0, 5), dtype=float32),\n",
       "  41: array([], shape=(0, 5), dtype=float32),\n",
       "  42: array([], shape=(0, 5), dtype=float32),\n",
       "  43: array([], shape=(0, 5), dtype=float32),\n",
       "  44: array([], shape=(0, 5), dtype=float32),\n",
       "  45: array([], shape=(0, 5), dtype=float32),\n",
       "  46: array([], shape=(0, 5), dtype=float32),\n",
       "  47: array([], shape=(0, 5), dtype=float32),\n",
       "  48: array([], shape=(0, 5), dtype=float32),\n",
       "  49: array([], shape=(0, 5), dtype=float32),\n",
       "  50: array([], shape=(0, 5), dtype=float32),\n",
       "  51: array([], shape=(0, 5), dtype=float32),\n",
       "  52: array([], shape=(0, 5), dtype=float32),\n",
       "  53: array([], shape=(0, 5), dtype=float32),\n",
       "  54: array([], shape=(0, 5), dtype=float32),\n",
       "  55: array([], shape=(0, 5), dtype=float32),\n",
       "  56: array([], shape=(0, 5), dtype=float32),\n",
       "  57: array([], shape=(0, 5), dtype=float32),\n",
       "  58: array([[ 39.791138 , 193.8711   ,  48.93976  , 227.85547  ,   0.8532339],\n",
       "         [ 40.503403 , 214.29633  ,  49.878273 , 251.45312  ,   0.5195049]],\n",
       "        dtype=float32),\n",
       "  59: array([], shape=(0, 5), dtype=float32),\n",
       "  60: array([], shape=(0, 5), dtype=float32),\n",
       "  61: array([], shape=(0, 5), dtype=float32),\n",
       "  62: array([], shape=(0, 5), dtype=float32),\n",
       "  63: array([], shape=(0, 5), dtype=float32),\n",
       "  64: array([], shape=(0, 5), dtype=float32),\n",
       "  65: array([], shape=(0, 5), dtype=float32),\n",
       "  66: array([], shape=(0, 5), dtype=float32),\n",
       "  67: array([], shape=(0, 5), dtype=float32),\n",
       "  68: array([], shape=(0, 5), dtype=float32),\n",
       "  69: array([], shape=(0, 5), dtype=float32),\n",
       "  70: array([], shape=(0, 5), dtype=float32),\n",
       "  71: array([], shape=(0, 5), dtype=float32),\n",
       "  72: array([], shape=(0, 5), dtype=float32),\n",
       "  73: array([], shape=(0, 5), dtype=float32),\n",
       "  74: array([], shape=(0, 5), dtype=float32),\n",
       "  75: array([], shape=(0, 5), dtype=float32),\n",
       "  76: array([], shape=(0, 5), dtype=float32),\n",
       "  77: array([], shape=(0, 5), dtype=float32),\n",
       "  78: array([], shape=(0, 5), dtype=float32),\n",
       "  79: array([], shape=(0, 5), dtype=float32)}]"
      ]
     },
     "execution_count": 5,
     "metadata": {},
     "output_type": "execute_result"
    }
   ],
   "source": [
    "detection_result"
   ]
  }
 ],
 "metadata": {
  "kernelspec": {
   "display_name": "Python 3",
   "language": "python",
   "name": "python3"
  },
  "language_info": {
   "codemirror_mode": {
    "name": "ipython",
    "version": 3
   },
   "file_extension": ".py",
   "mimetype": "text/x-python",
   "name": "python",
   "nbconvert_exporter": "python",
   "pygments_lexer": "ipython3",
   "version": "3.6.5"
  }
 },
 "nbformat": 4,
 "nbformat_minor": 2
}
