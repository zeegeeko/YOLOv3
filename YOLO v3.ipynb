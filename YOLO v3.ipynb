{
 "cells": [
  {
   "cell_type": "markdown",
   "metadata": {},
   "source": [
    "# YOLO v3"
   ]
  },
  {
   "cell_type": "code",
   "execution_count": 1,
   "metadata": {},
   "outputs": [],
   "source": [
    "#import libraries\n",
    "import tensorflow as tf\n",
    "import numpy as np\n",
    "import matplotlib.pyplot as plt\n",
    "from yolov3 import *\n",
    "from util import *"
   ]
  },
  {
   "cell_type": "code",
   "execution_count": 2,
   "metadata": {},
   "outputs": [],
   "source": [
    "#From YOLOv3 paper https://pjreddie.com/media/files/papers/YOLOv3.pdf, bounding box priors\n",
    "#dervived using k-means clustering on COCO dataset\n",
    "ANCHORS = [(10,13),(16,30),(33,23),(30,61),(62,45),(59,119),(116,90),(156,198),(373,326)]\n",
    "\n"
   ]
  },
  {
   "cell_type": "code",
   "execution_count": 3,
   "metadata": {},
   "outputs": [
    {
     "data": {
      "text/plain": [
       "\"\\ninputs = tf.placeholder(tf.float32, [1, 416, 416, 3])\\n\\nmodel = YOLOv3((416,416), 80, ANCHORS, 0.5, 0.5, 'channels_last')\\ndetect_model = model.detect(inputs)\\n\\nyolovars = tf.global_variables(scope='yolov3')\\nassign_list = convert_weights(yolovars, './Data/yolov3.weights')\\n\\nsaver = tf.train.Saver(tf.global_variables(scope='yolov3'))\\n\\nwith tf.Session() as sess:\\n    sess.run(assign_list)\\n    saver.save(sess, './Data/yolov3.ckpt')\\n    print('Model has been saved successfully.')\\n\""
      ]
     },
     "execution_count": 3,
     "metadata": {},
     "output_type": "execute_result"
    }
   ],
   "source": [
    "#Converting Official Yolo weights to Tensorflow format\n",
    "\n",
    "\"\"\"\n",
    "inputs = tf.placeholder(tf.float32, [1, 416, 416, 3])\n",
    "\n",
    "model = YOLOv3((416,416), 80, ANCHORS, 0.5, 0.5, 'channels_last')\n",
    "detect_model = model.detect(inputs)\n",
    "\n",
    "yolovars = tf.global_variables(scope='yolov3')\n",
    "assign_list = convert_weights(yolovars, './Data/yolov3.weights')\n",
    "\n",
    "saver = tf.train.Saver(tf.global_variables(scope='yolov3'))\n",
    "\n",
    "with tf.Session() as sess:\n",
    "    sess.run(assign_list)\n",
    "    saver.save(sess, './Data/yolov3.ckpt')\n",
    "    print('Model has been saved successfully.')\n",
    "\"\"\""
   ]
  },
  {
   "cell_type": "code",
   "execution_count": null,
   "metadata": {},
   "outputs": [],
   "source": []
  },
  {
   "cell_type": "code",
   "execution_count": null,
   "metadata": {},
   "outputs": [],
   "source": []
  }
 ],
 "metadata": {
  "kernelspec": {
   "display_name": "Python 3",
   "language": "python",
   "name": "python3"
  },
  "language_info": {
   "codemirror_mode": {
    "name": "ipython",
    "version": 3
   },
   "file_extension": ".py",
   "mimetype": "text/x-python",
   "name": "python",
   "nbconvert_exporter": "python",
   "pygments_lexer": "ipython3",
   "version": "3.6.5"
  }
 },
 "nbformat": 4,
 "nbformat_minor": 2
}
